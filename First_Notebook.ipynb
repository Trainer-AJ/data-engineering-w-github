{
 "cells": [
  {
   "cell_type": "code",
   "execution_count": 0,
   "metadata": {
    "application/vnd.databricks.v1+cell": {
     "cellMetadata": {
      "byteLimit": 2048000,
      "rowLimit": 10000
     },
     "inputWidgets": {},
     "nuid": "6b2ccbd4-759c-4546-a109-8ae69b871b8c",
     "showTitle": false,
     "title": ""
    }
   },
   "outputs": [
    {
     "output_type": "stream",
     "name": "stdout",
     "output_type": "stream",
     "text": [
      "Hello\n"
     ]
    }
   ],
   "source": [
    "print(\"Hello\")"
   ]
  },
  {
   "cell_type": "code",
   "execution_count": 0,
   "metadata": {
    "application/vnd.databricks.v1+cell": {
     "cellMetadata": {
      "byteLimit": 2048000,
      "rowLimit": 10000
     },
     "inputWidgets": {},
     "nuid": "a895dc08-0cf5-4850-8e25-a35a91625c83",
     "showTitle": false,
     "title": ""
    }
   },
   "outputs": [
    {
     "output_type": "stream",
     "name": "stdout",
     "output_type": "stream",
     "text": [
      "0\n1\n2\n3\n4\n5\n6\n7\n8\n9\n"
     ]
    }
   ],
   "source": [
    "for num in range(10):\n",
    "    print(num)"
   ]
  },
  {
   "cell_type": "code",
   "execution_count": 0,
   "metadata": {
    "application/vnd.databricks.v1+cell": {
     "cellMetadata": {
      "byteLimit": 2048000,
      "implicitDf": true,
      "rowLimit": 10000
     },
     "inputWidgets": {},
     "nuid": "7769965b-1ce4-4a75-95c3-9e85696438a5",
     "showTitle": false,
     "title": ""
    }
   },
   "outputs": [
    {
     "output_type": "display_data",
     "data": {
      "text/html": [
       "<style scoped>\n",
       "  .table-result-container {\n",
       "    max-height: 300px;\n",
       "    overflow: auto;\n",
       "  }\n",
       "  table, th, td {\n",
       "    border: 1px solid black;\n",
       "    border-collapse: collapse;\n",
       "  }\n",
       "  th, td {\n",
       "    padding: 5px;\n",
       "  }\n",
       "  th {\n",
       "    text-align: left;\n",
       "  }\n",
       "</style><div class='table-result-container'><table class='table-result'><thead style='background-color: white'><tr><th>databaseName</th></tr></thead><tbody><tr><td>default</td></tr></tbody></table></div>"
      ]
     },
     "metadata": {
      "application/vnd.databricks.v1+output": {
       "addedWidgets": {},
       "aggData": [],
       "aggError": "",
       "aggOverflow": false,
       "aggSchema": [],
       "aggSeriesLimitReached": false,
       "aggType": "",
       "arguments": {},
       "columnCustomDisplayInfos": {},
       "data": [
        [
         "default"
        ]
       ],
       "datasetInfos": [],
       "dbfsResultPath": null,
       "isJsonSchema": true,
       "metadata": {
        "dataframeName": "_sqldf",
        "executionCount": 3
       },
       "overflow": false,
       "plotOptions": {
        "customPlotOptions": {},
        "displayType": "table",
        "pivotAggregation": null,
        "pivotColumns": null,
        "xColumns": null,
        "yColumns": null
       },
       "removedWidgets": [],
       "schema": [
        {
         "metadata": "{}",
         "name": "databaseName",
         "type": "\"string\""
        }
       ],
       "type": "table"
      }
     },
     "output_type": "display_data"
    }
   ],
   "source": [
    "%sql\n",
    "show databases\n",
    "\n",
    "\n"
   ]
  },
  {
   "cell_type": "markdown",
   "metadata": {
    "application/vnd.databricks.v1+cell": {
     "cellMetadata": {},
     "inputWidgets": {},
     "nuid": "bf56cb6f-42bf-4d09-b73e-cc5e3f24b73f",
     "showTitle": false,
     "title": ""
    }
   },
   "source": [
    "## Data Engineering starts here "
   ]
  },
  {
   "cell_type": "code",
   "execution_count": 0,
   "metadata": {
    "application/vnd.databricks.v1+cell": {
     "cellMetadata": {
      "byteLimit": 2048000,
      "rowLimit": 10000
     },
     "inputWidgets": {},
     "nuid": "066c896b-5bb3-41ad-8786-35d6beb55908",
     "showTitle": false,
     "title": ""
    }
   },
   "outputs": [
    {
     "output_type": "stream",
     "name": "stdout",
     "output_type": "stream",
     "text": [
      "    Name  Age      City\n0   John   25  New York\n1   Emma   28    London\n2  Peter   30     Paris\n"
     ]
    }
   ],
   "source": [
    "import pandas as pd\n",
    "\n",
    "# Create a dictionary with the data\n",
    "data = {'Name': ['John', 'Emma', 'Peter'],\n",
    "        'Age': [25, 28, 30],\n",
    "        'City': ['New York', 'London', 'Paris']}\n",
    "\n",
    "# Create a DataFrame from the dictionary\n",
    "df = pd.DataFrame(data)\n",
    "\n",
    "# Display the DataFrame\n",
    "print(df)"
   ]
  },
  {
   "cell_type": "code",
   "execution_count": 0,
   "metadata": {
    "application/vnd.databricks.v1+cell": {
     "cellMetadata": {
      "byteLimit": 2048000,
      "rowLimit": 10000
     },
     "inputWidgets": {},
     "nuid": "fbca67fd-2341-47be-a8bc-9b9914226712",
     "showTitle": false,
     "title": ""
    }
   },
   "outputs": [
    {
     "output_type": "stream",
     "name": "stdout",
     "output_type": "stream",
     "text": [
      "   Name  Age      City\n0  John   25  New York\n1  Emma   28    London\n"
     ]
    }
   ],
   "source": [
    "df2 = df[df['Age'] < 30]\n",
    "print(df2)"
   ]
  },
  {
   "cell_type": "code",
   "execution_count": 0,
   "metadata": {
    "application/vnd.databricks.v1+cell": {
     "cellMetadata": {
      "byteLimit": 2048000,
      "rowLimit": 10000
     },
     "inputWidgets": {},
     "nuid": "bef701f3-775f-4e2e-af43-a6d6505c5bb8",
     "showTitle": false,
     "title": ""
    }
   },
   "outputs": [
    {
     "output_type": "display_data",
     "data": {
      "text/html": [
       "<style scoped>\n",
       "  .table-result-container {\n",
       "    max-height: 300px;\n",
       "    overflow: auto;\n",
       "  }\n",
       "  table, th, td {\n",
       "    border: 1px solid black;\n",
       "    border-collapse: collapse;\n",
       "  }\n",
       "  th, td {\n",
       "    padding: 5px;\n",
       "  }\n",
       "  th {\n",
       "    text-align: left;\n",
       "  }\n",
       "</style><div class='table-result-container'><table class='table-result'><thead style='background-color: white'><tr><th>Film</th><th>Genre</th><th>Lead Studio</th><th>Audience score %</th><th>Profitability</th><th>Rotten Tomatoes %</th><th>Worldwide Gross</th><th>Year</th></tr></thead><tbody><tr><td>Water For Elephants</td><td>Drama</td><td>20th Century Fox</td><td>72</td><td>3.081421053</td><td>60</td><td>$117.09 </td><td>2011</td></tr><tr><td>The Twilight Saga: New Moon</td><td>Drama</td><td>Summit</td><td>78</td><td>14.1964</td><td>27</td><td>$709.82 </td><td>2009</td></tr><tr><td>The Time Traveler's Wife</td><td>Drama</td><td>Paramount</td><td>65</td><td>2.598205128</td><td>38</td><td>$101.33 </td><td>2009</td></tr><tr><td>The Duchess</td><td>Drama</td><td>Paramount</td><td>68</td><td>3.207850222</td><td>60</td><td>$43.31 </td><td>2008</td></tr><tr><td>Remember Me</td><td>Drama</td><td>Summit</td><td>70</td><td>3.49125</td><td>28</td><td>$55.86 </td><td>2010</td></tr><tr><td>Rachel Getting Married</td><td>Drama</td><td>Independent</td><td>61</td><td>1.384166667</td><td>85</td><td>$16.61 </td><td>2008</td></tr><tr><td>Not Easily Broken</td><td>Drama</td><td>Independent</td><td>66</td><td>2.14</td><td>34</td><td>$10.70 </td><td>2009</td></tr><tr><td>My Week with Marilyn</td><td>Drama</td><td>The Weinstein Company</td><td>84</td><td>0.8258</td><td>83</td><td>$8.26 </td><td>2011</td></tr><tr><td>Love Happens</td><td>Drama</td><td>Universal</td><td>40</td><td>2.004444444</td><td>18</td><td>$36.08 </td><td>2009</td></tr><tr><td>Fireproof</td><td>Drama</td><td>Independent</td><td>51</td><td>66.934</td><td>40</td><td>$33.47 </td><td>2008</td></tr><tr><td>Dear John</td><td>Drama</td><td>Sony</td><td>66</td><td>4.5988</td><td>29</td><td>$114.97 </td><td>2010</td></tr><tr><td>A Serious Man</td><td>Drama</td><td>Universal</td><td>64</td><td>4.382857143</td><td>89</td><td>$30.68 </td><td>2009</td></tr><tr><td>A Dangerous Method</td><td>Drama</td><td>Independent</td><td>89</td><td>0.44864475</td><td>79</td><td>$8.97 </td><td>2011</td></tr></tbody></table></div>"
      ]
     },
     "metadata": {
      "application/vnd.databricks.v1+output": {
       "addedWidgets": {},
       "aggData": [],
       "aggError": "",
       "aggOverflow": false,
       "aggSchema": [],
       "aggSeriesLimitReached": false,
       "aggType": "",
       "arguments": {},
       "columnCustomDisplayInfos": {},
       "data": [
        [
         "Water For Elephants",
         "Drama",
         "20th Century Fox",
         "72",
         "3.081421053",
         "60",
         "$117.09 ",
         "2011"
        ],
        [
         "The Twilight Saga: New Moon",
         "Drama",
         "Summit",
         "78",
         "14.1964",
         "27",
         "$709.82 ",
         "2009"
        ],
        [
         "The Time Traveler's Wife",
         "Drama",
         "Paramount",
         "65",
         "2.598205128",
         "38",
         "$101.33 ",
         "2009"
        ],
        [
         "The Duchess",
         "Drama",
         "Paramount",
         "68",
         "3.207850222",
         "60",
         "$43.31 ",
         "2008"
        ],
        [
         "Remember Me",
         "Drama",
         "Summit",
         "70",
         "3.49125",
         "28",
         "$55.86 ",
         "2010"
        ],
        [
         "Rachel Getting Married",
         "Drama",
         "Independent",
         "61",
         "1.384166667",
         "85",
         "$16.61 ",
         "2008"
        ],
        [
         "Not Easily Broken",
         "Drama",
         "Independent",
         "66",
         "2.14",
         "34",
         "$10.70 ",
         "2009"
        ],
        [
         "My Week with Marilyn",
         "Drama",
         "The Weinstein Company",
         "84",
         "0.8258",
         "83",
         "$8.26 ",
         "2011"
        ],
        [
         "Love Happens",
         "Drama",
         "Universal",
         "40",
         "2.004444444",
         "18",
         "$36.08 ",
         "2009"
        ],
        [
         "Fireproof",
         "Drama",
         "Independent",
         "51",
         "66.934",
         "40",
         "$33.47 ",
         "2008"
        ],
        [
         "Dear John",
         "Drama",
         "Sony",
         "66",
         "4.5988",
         "29",
         "$114.97 ",
         "2010"
        ],
        [
         "A Serious Man",
         "Drama",
         "Universal",
         "64",
         "4.382857143",
         "89",
         "$30.68 ",
         "2009"
        ],
        [
         "A Dangerous Method",
         "Drama",
         "Independent",
         "89",
         "0.44864475",
         "79",
         "$8.97 ",
         "2011"
        ]
       ],
       "datasetInfos": [],
       "dbfsResultPath": null,
       "isJsonSchema": true,
       "metadata": {},
       "overflow": false,
       "plotOptions": {
        "customPlotOptions": {},
        "displayType": "table",
        "pivotAggregation": null,
        "pivotColumns": null,
        "xColumns": null,
        "yColumns": null
       },
       "removedWidgets": [],
       "schema": [
        {
         "metadata": "{}",
         "name": "Film",
         "type": "\"string\""
        },
        {
         "metadata": "{}",
         "name": "Genre",
         "type": "\"string\""
        },
        {
         "metadata": "{}",
         "name": "Lead Studio",
         "type": "\"string\""
        },
        {
         "metadata": "{}",
         "name": "Audience score %",
         "type": "\"string\""
        },
        {
         "metadata": "{}",
         "name": "Profitability",
         "type": "\"string\""
        },
        {
         "metadata": "{}",
         "name": "Rotten Tomatoes %",
         "type": "\"string\""
        },
        {
         "metadata": "{}",
         "name": "Worldwide Gross",
         "type": "\"string\""
        },
        {
         "metadata": "{}",
         "name": "Year",
         "type": "\"string\""
        }
       ],
       "type": "table"
      }
     },
     "output_type": "display_data"
    }
   ],
   "source": [
    "# path to file in dbfs\n",
    "path_2_csv = \"dbfs:/FileStore/csv/movies.csv\"\n",
    "\n",
    "# creating a dataframe with name = movie\n",
    "# dataframe behaves like a table\n",
    "# now you have a table named movies\n",
    "# IN REAL LIFE = create dataframe only when need to make a virtual table\n",
    "movie = spark.read.format(\"csv\").option(\"header\",True).load(path_2_csv)\n",
    "\n",
    "\n",
    "# show the dataframe table\n",
    "#movie.show()\n",
    "\n",
    "# filter \n",
    "new_df = movie.filter(\"Genre == 'Drama'\")\n",
    "display(new_df)\n",
    "\n",
    "\n"
   ]
  },
  {
   "cell_type": "code",
   "execution_count": 0,
   "metadata": {
    "application/vnd.databricks.v1+cell": {
     "cellMetadata": {
      "byteLimit": 2048000,
      "implicitDf": true,
      "rowLimit": 10000
     },
     "inputWidgets": {},
     "nuid": "1371f1b7-a41c-4cf7-ad94-180e103b96e6",
     "showTitle": false,
     "title": ""
    }
   },
   "outputs": [
    {
     "output_type": "display_data",
     "data": {
      "text/html": [
       "<style scoped>\n",
       "  .table-result-container {\n",
       "    max-height: 300px;\n",
       "    overflow: auto;\n",
       "  }\n",
       "  table, th, td {\n",
       "    border: 1px solid black;\n",
       "    border-collapse: collapse;\n",
       "  }\n",
       "  th, td {\n",
       "    padding: 5px;\n",
       "  }\n",
       "  th {\n",
       "    text-align: left;\n",
       "  }\n",
       "</style><div class='table-result-container'><table class='table-result'><thead style='background-color: white'><tr><th>Film</th><th>Genre</th><th>Lead Studio</th><th>Audience score %</th><th>Profitability</th><th>Rotten Tomatoes %</th><th>Worldwide Gross</th><th>Year</th></tr></thead><tbody><tr><td>Zack and Miri Make a Porno</td><td>Romance</td><td>The Weinstein Company</td><td>70</td><td>1.747541667</td><td>64</td><td>$41.94 </td><td>2008</td></tr><tr><td>Youth in Revolt</td><td>Comedy</td><td>The Weinstein Company</td><td>52</td><td>1.09</td><td>68</td><td>$19.62 </td><td>2010</td></tr><tr><td>You Will Meet a Tall Dark Stranger</td><td>Comedy</td><td>Independent</td><td>35</td><td>1.211818182</td><td>43</td><td>$26.66 </td><td>2010</td></tr><tr><td>When in Rome</td><td>Comedy</td><td>Disney</td><td>44</td><td>0.0</td><td>15</td><td>$43.04 </td><td>2010</td></tr><tr><td>What Happens in Vegas</td><td>Comedy</td><td>Fox</td><td>72</td><td>6.267647029</td><td>28</td><td>$219.37 </td><td>2008</td></tr><tr><td>Water For Elephants</td><td>Drama</td><td>20th Century Fox</td><td>72</td><td>3.081421053</td><td>60</td><td>$117.09 </td><td>2011</td></tr><tr><td>WALL-E</td><td>Animation</td><td>Disney</td><td>89</td><td>2.896019067</td><td>96</td><td>$521.28 </td><td>2008</td></tr><tr><td>Waitress</td><td>Romance</td><td>Independent</td><td>67</td><td>11.0897415</td><td>89</td><td>$22.18 </td><td>2007</td></tr><tr><td>Waiting For Forever</td><td>Romance</td><td>Independent</td><td>53</td><td>0.005</td><td>6</td><td>$0.03 </td><td>2011</td></tr><tr><td>Valentine's Day</td><td>Comedy</td><td>Warner Bros.</td><td>54</td><td>4.184038462</td><td>17</td><td>$217.57 </td><td>2010</td></tr><tr><td>Tyler Perry's Why Did I get Married</td><td>Romance</td><td>Independent</td><td>47</td><td>3.7241924</td><td>46</td><td>$55.86 </td><td>2007</td></tr><tr><td>Twilight: Breaking Dawn</td><td>Romance</td><td>Independent</td><td>68</td><td>6.383363636</td><td>26</td><td>$702.17 </td><td>2011</td></tr><tr><td>Twilight</td><td>Romance</td><td>Summit</td><td>82</td><td>10.18002703</td><td>49</td><td>$376.66 </td><td>2008</td></tr><tr><td>The Ugly Truth</td><td>Comedy</td><td>Independent</td><td>68</td><td>5.402631579</td><td>14</td><td>$205.30 </td><td>2009</td></tr><tr><td>The Twilight Saga: New Moon</td><td>Drama</td><td>Summit</td><td>78</td><td>14.1964</td><td>27</td><td>$709.82 </td><td>2009</td></tr><tr><td>The Time Traveler's Wife</td><td>Drama</td><td>Paramount</td><td>65</td><td>2.598205128</td><td>38</td><td>$101.33 </td><td>2009</td></tr><tr><td>The Proposal</td><td>Comedy</td><td>Disney</td><td>74</td><td>7.8675</td><td>43</td><td>$314.70 </td><td>2009</td></tr><tr><td>The Invention of Lying</td><td>Comedy</td><td>Warner Bros.</td><td>47</td><td>1.751351351</td><td>56</td><td>$32.40 </td><td>2009</td></tr><tr><td>The Heartbreak Kid</td><td>Comedy</td><td>Paramount</td><td>41</td><td>2.129444167</td><td>30</td><td>$127.77 </td><td>2007</td></tr><tr><td>The Duchess</td><td>Drama</td><td>Paramount</td><td>68</td><td>3.207850222</td><td>60</td><td>$43.31 </td><td>2008</td></tr><tr><td>The Curious Case of Benjamin Button</td><td>Fantasy</td><td>Warner Bros.</td><td>81</td><td>1.78394375</td><td>73</td><td>$285.43 </td><td>2008</td></tr><tr><td>The Back-up Plan</td><td>Comedy</td><td>CBS</td><td>47</td><td>2.202571429</td><td>20</td><td>$77.09 </td><td>2010</td></tr><tr><td>Tangled</td><td>Animation</td><td>Disney</td><td>88</td><td>1.365692308</td><td>89</td><td>$355.01 </td><td>2010</td></tr><tr><td>Something Borrowed</td><td>Romance</td><td>Independent</td><td>48</td><td>1.719514286</td><td>15</td><td>$60.18 </td><td>2011</td></tr><tr><td>She's Out of My League</td><td>Comedy</td><td>Paramount</td><td>60</td><td>2.4405</td><td>57</td><td>$48.81 </td><td>2010</td></tr><tr><td>Sex and the City Two</td><td>Comedy</td><td>Warner Bros.</td><td>49</td><td>2.8835</td><td>15</td><td>$288.35 </td><td>2010</td></tr><tr><td>Sex and the City 2</td><td>Comedy</td><td>Warner Bros.</td><td>49</td><td>2.8835</td><td>15</td><td>$288.35 </td><td>2010</td></tr><tr><td>Sex and the City</td><td>Comedy</td><td>Warner Bros.</td><td>81</td><td>7.221795791</td><td>49</td><td>$415.25 </td><td>2008</td></tr><tr><td>Remember Me</td><td>Drama</td><td>Summit</td><td>70</td><td>3.49125</td><td>28</td><td>$55.86 </td><td>2010</td></tr><tr><td>Rachel Getting Married</td><td>Drama</td><td>Independent</td><td>61</td><td>1.384166667</td><td>85</td><td>$16.61 </td><td>2008</td></tr><tr><td>Penelope</td><td>Comedy</td><td>Summit</td><td>74</td><td>1.382799733</td><td>52</td><td>$20.74 </td><td>2008</td></tr><tr><td>P.S. I Love You</td><td>Romance</td><td>Independent</td><td>82</td><td>5.103116833</td><td>21</td><td>$153.09 </td><td>2007</td></tr><tr><td>Over Her Dead Body</td><td>Comedy</td><td>New Line</td><td>47</td><td>2.071</td><td>15</td><td>$20.71 </td><td>2008</td></tr><tr><td>Our Family Wedding</td><td>Comedy</td><td>Independent</td><td>49</td><td>0.0</td><td>14</td><td>$21.37 </td><td>2010</td></tr><tr><td>One Day</td><td>Romance</td><td>Independent</td><td>54</td><td>3.682733333</td><td>37</td><td>$55.24 </td><td>2011</td></tr><tr><td>Not Easily Broken</td><td>Drama</td><td>Independent</td><td>66</td><td>2.14</td><td>34</td><td>$10.70 </td><td>2009</td></tr><tr><td>No Reservations</td><td>Comedy</td><td>Warner Bros.</td><td>64</td><td>3.307180357</td><td>39</td><td>$92.60 </td><td>2007</td></tr><tr><td>Nick and Norah's Infinite Playlist</td><td>Comedy</td><td>Sony</td><td>67</td><td>3.3527293</td><td>73</td><td>$33.53 </td><td>2008</td></tr><tr><td>New Year's Eve</td><td>Romance</td><td>Warner Bros.</td><td>48</td><td>2.536428571</td><td>8</td><td>$142.04 </td><td>2011</td></tr><tr><td>My Week with Marilyn</td><td>Drama</td><td>The Weinstein Company</td><td>84</td><td>0.8258</td><td>83</td><td>$8.26 </td><td>2011</td></tr><tr><td>Music and Lyrics</td><td>Romance</td><td>Warner Bros.</td><td>70</td><td>3.64741055</td><td>63</td><td>$145.90 </td><td>2007</td></tr><tr><td>Monte Carlo</td><td>Romance</td><td>20th Century Fox</td><td>50</td><td>1.9832</td><td>38</td><td>$39.66 </td><td>2011</td></tr><tr><td>Miss Pettigrew Lives for a Day</td><td>Comedy</td><td>Independent</td><td>70</td><td>0.2528949</td><td>78</td><td>$15.17 </td><td>2008</td></tr><tr><td>Midnight in Paris</td><td>Romence</td><td>Sony</td><td>84</td><td>8.744705882</td><td>93</td><td>$148.66 </td><td>2011</td></tr><tr><td>Marley and Me</td><td>Comedy</td><td>Fox</td><td>77</td><td>3.746781818</td><td>63</td><td>$206.07 </td><td>2008</td></tr><tr><td>Mamma Mia!</td><td>Comedy</td><td>Universal</td><td>76</td><td>9.234453864</td><td>53</td><td>$609.47 </td><td>2008</td></tr><tr><td>Mamma Mia!</td><td>Comedy</td><td>Universal</td><td>76</td><td>9.234453864</td><td>53</td><td>$609.47 </td><td>2008</td></tr><tr><td>Made of Honor</td><td>Comdy</td><td>Sony</td><td>61</td><td>2.64906835</td><td>13</td><td>$105.96 </td><td>2008</td></tr><tr><td>Love Happens</td><td>Drama</td><td>Universal</td><td>40</td><td>2.004444444</td><td>18</td><td>$36.08 </td><td>2009</td></tr><tr><td>Love & Other Drugs</td><td>Comedy</td><td>Fox</td><td>55</td><td>1.817666667</td><td>48</td><td>$54.53 </td><td>2010</td></tr><tr><td>Life as We Know It</td><td>Comedy</td><td>Independent</td><td>62</td><td>2.530526316</td><td>28</td><td>$96.16 </td><td>2010</td></tr><tr><td>License to Wed</td><td>Comedy</td><td>Warner Bros.</td><td>55</td><td>1.9802064</td><td>8</td><td>$69.31 </td><td>2007</td></tr><tr><td>Letters to Juliet</td><td>Comedy</td><td>Summit</td><td>62</td><td>2.639333333</td><td>40</td><td>$79.18 </td><td>2010</td></tr><tr><td>Leap Year</td><td>Comedy</td><td>Universal</td><td>49</td><td>1.715263158</td><td>21</td><td>$32.59 </td><td>2010</td></tr><tr><td>Knocked Up</td><td>Comedy</td><td>Universal</td><td>83</td><td>6.636401848</td><td>91</td><td>$219 </td><td>2007</td></tr><tr><td>Killers</td><td>Action</td><td>Lionsgate</td><td>45</td><td>1.245333333</td><td>11</td><td>$93.40 </td><td>2010</td></tr><tr><td>Just Wright</td><td>Comedy</td><td>Fox</td><td>58</td><td>1.797416667</td><td>45</td><td>$21.57 </td><td>2010</td></tr><tr><td>Jane Eyre</td><td>Romance</td><td>Universal</td><td>77</td><td>0.0</td><td>85</td><td>$30.15 </td><td>2011</td></tr><tr><td>It's Complicated</td><td>Comedy</td><td>Universal</td><td>63</td><td>2.642352941</td><td>56</td><td>$224.60 </td><td>2009</td></tr><tr><td>I Love You Phillip Morris</td><td>Comedy</td><td>Independent</td><td>57</td><td>1.34</td><td>71</td><td>$20.10 </td><td>2010</td></tr><tr><td>High School Musical 3: Senior Year</td><td>Comedy</td><td>Disney</td><td>76</td><td>22.91313646</td><td>65</td><td>$252.04 </td><td>2008</td></tr><tr><td>He's Just Not That Into You</td><td>Comedy</td><td>Warner Bros.</td><td>60</td><td>7.1536</td><td>42</td><td>$178.84 </td><td>2009</td></tr><tr><td>Good Luck Chuck</td><td>Comedy</td><td>Lionsgate</td><td>61</td><td>2.36768512</td><td>3</td><td>$59.19 </td><td>2007</td></tr><tr><td>Going the Distance</td><td>Comedy</td><td>Warner Bros.</td><td>56</td><td>1.3140625</td><td>53</td><td>$42.05 </td><td>2010</td></tr><tr><td>Gnomeo and Juliet</td><td>Animation</td><td>Disney</td><td>52</td><td>5.387972222</td><td>56</td><td>$193.97 </td><td>2011</td></tr><tr><td>Gnomeo and Juliet</td><td>Animation</td><td>Disney</td><td>52</td><td>5.387972222</td><td>56</td><td>$193.97 </td><td>2011</td></tr><tr><td>Ghosts of Girlfriends Past</td><td>Comedy</td><td>Warner Bros.</td><td>47</td><td>2.0444</td><td>27</td><td>$102.22 </td><td>2009</td></tr><tr><td>Four Christmases</td><td>Comedy</td><td>Warner Bros.</td><td>52</td><td>2.022925</td><td>26</td><td>$161.83 </td><td>2008</td></tr><tr><td>Fireproof</td><td>Drama</td><td>Independent</td><td>51</td><td>66.934</td><td>40</td><td>$33.47 </td><td>2008</td></tr><tr><td>Enchanted</td><td>Comedy</td><td>Disney</td><td>80</td><td>4.005737082</td><td>93</td><td>$340.49 </td><td>2007</td></tr><tr><td>Dear John</td><td>Drama</td><td>Sony</td><td>66</td><td>4.5988</td><td>29</td><td>$114.97 </td><td>2010</td></tr><tr><td>Beginners</td><td>Comedy</td><td>Independent</td><td>80</td><td>4.471875</td><td>84</td><td>$14.31 </td><td>2011</td></tr><tr><td>Across the Universe</td><td>romance</td><td>Independent</td><td>84</td><td>0.652603178</td><td>54</td><td>$29.37 </td><td>2007</td></tr><tr><td>A Serious Man</td><td>Drama</td><td>Universal</td><td>64</td><td>4.382857143</td><td>89</td><td>$30.68 </td><td>2009</td></tr><tr><td>A Dangerous Method</td><td>Drama</td><td>Independent</td><td>89</td><td>0.44864475</td><td>79</td><td>$8.97 </td><td>2011</td></tr><tr><td>27 Dresses</td><td>Comedy</td><td>Fox</td><td>71</td><td>5.3436218</td><td>40</td><td>$160.31 </td><td>2008</td></tr><tr><td>(500) Days of Summer</td><td>comedy</td><td>Fox</td><td>81</td><td>8.096</td><td>87</td><td>$60.72 </td><td>2009</td></tr></tbody></table></div>"
      ]
     },
     "metadata": {
      "application/vnd.databricks.v1+output": {
       "addedWidgets": {},
       "aggData": [],
       "aggError": "",
       "aggOverflow": false,
       "aggSchema": [],
       "aggSeriesLimitReached": false,
       "aggType": "",
       "arguments": {},
       "columnCustomDisplayInfos": {},
       "data": [
        [
         "Zack and Miri Make a Porno",
         "Romance",
         "The Weinstein Company",
         70,
         1.747541667,
         64,
         "$41.94 ",
         2008
        ],
        [
         "Youth in Revolt",
         "Comedy",
         "The Weinstein Company",
         52,
         1.09,
         68,
         "$19.62 ",
         2010
        ],
        [
         "You Will Meet a Tall Dark Stranger",
         "Comedy",
         "Independent",
         35,
         1.211818182,
         43,
         "$26.66 ",
         2010
        ],
        [
         "When in Rome",
         "Comedy",
         "Disney",
         44,
         0.0,
         15,
         "$43.04 ",
         2010
        ],
        [
         "What Happens in Vegas",
         "Comedy",
         "Fox",
         72,
         6.267647029,
         28,
         "$219.37 ",
         2008
        ],
        [
         "Water For Elephants",
         "Drama",
         "20th Century Fox",
         72,
         3.081421053,
         60,
         "$117.09 ",
         2011
        ],
        [
         "WALL-E",
         "Animation",
         "Disney",
         89,
         2.896019067,
         96,
         "$521.28 ",
         2008
        ],
        [
         "Waitress",
         "Romance",
         "Independent",
         67,
         11.0897415,
         89,
         "$22.18 ",
         2007
        ],
        [
         "Waiting For Forever",
         "Romance",
         "Independent",
         53,
         0.005,
         6,
         "$0.03 ",
         2011
        ],
        [
         "Valentine's Day",
         "Comedy",
         "Warner Bros.",
         54,
         4.184038462,
         17,
         "$217.57 ",
         2010
        ],
        [
         "Tyler Perry's Why Did I get Married",
         "Romance",
         "Independent",
         47,
         3.7241924,
         46,
         "$55.86 ",
         2007
        ],
        [
         "Twilight: Breaking Dawn",
         "Romance",
         "Independent",
         68,
         6.383363636,
         26,
         "$702.17 ",
         2011
        ],
        [
         "Twilight",
         "Romance",
         "Summit",
         82,
         10.18002703,
         49,
         "$376.66 ",
         2008
        ],
        [
         "The Ugly Truth",
         "Comedy",
         "Independent",
         68,
         5.402631579,
         14,
         "$205.30 ",
         2009
        ],
        [
         "The Twilight Saga: New Moon",
         "Drama",
         "Summit",
         78,
         14.1964,
         27,
         "$709.82 ",
         2009
        ],
        [
         "The Time Traveler's Wife",
         "Drama",
         "Paramount",
         65,
         2.598205128,
         38,
         "$101.33 ",
         2009
        ],
        [
         "The Proposal",
         "Comedy",
         "Disney",
         74,
         7.8675,
         43,
         "$314.70 ",
         2009
        ],
        [
         "The Invention of Lying",
         "Comedy",
         "Warner Bros.",
         47,
         1.751351351,
         56,
         "$32.40 ",
         2009
        ],
        [
         "The Heartbreak Kid",
         "Comedy",
         "Paramount",
         41,
         2.129444167,
         30,
         "$127.77 ",
         2007
        ],
        [
         "The Duchess",
         "Drama",
         "Paramount",
         68,
         3.207850222,
         60,
         "$43.31 ",
         2008
        ],
        [
         "The Curious Case of Benjamin Button",
         "Fantasy",
         "Warner Bros.",
         81,
         1.78394375,
         73,
         "$285.43 ",
         2008
        ],
        [
         "The Back-up Plan",
         "Comedy",
         "CBS",
         47,
         2.202571429,
         20,
         "$77.09 ",
         2010
        ],
        [
         "Tangled",
         "Animation",
         "Disney",
         88,
         1.365692308,
         89,
         "$355.01 ",
         2010
        ],
        [
         "Something Borrowed",
         "Romance",
         "Independent",
         48,
         1.719514286,
         15,
         "$60.18 ",
         2011
        ],
        [
         "She's Out of My League",
         "Comedy",
         "Paramount",
         60,
         2.4405,
         57,
         "$48.81 ",
         2010
        ],
        [
         "Sex and the City Two",
         "Comedy",
         "Warner Bros.",
         49,
         2.8835,
         15,
         "$288.35 ",
         2010
        ],
        [
         "Sex and the City 2",
         "Comedy",
         "Warner Bros.",
         49,
         2.8835,
         15,
         "$288.35 ",
         2010
        ],
        [
         "Sex and the City",
         "Comedy",
         "Warner Bros.",
         81,
         7.221795791,
         49,
         "$415.25 ",
         2008
        ],
        [
         "Remember Me",
         "Drama",
         "Summit",
         70,
         3.49125,
         28,
         "$55.86 ",
         2010
        ],
        [
         "Rachel Getting Married",
         "Drama",
         "Independent",
         61,
         1.384166667,
         85,
         "$16.61 ",
         2008
        ],
        [
         "Penelope",
         "Comedy",
         "Summit",
         74,
         1.382799733,
         52,
         "$20.74 ",
         2008
        ],
        [
         "P.S. I Love You",
         "Romance",
         "Independent",
         82,
         5.103116833,
         21,
         "$153.09 ",
         2007
        ],
        [
         "Over Her Dead Body",
         "Comedy",
         "New Line",
         47,
         2.071,
         15,
         "$20.71 ",
         2008
        ],
        [
         "Our Family Wedding",
         "Comedy",
         "Independent",
         49,
         0.0,
         14,
         "$21.37 ",
         2010
        ],
        [
         "One Day",
         "Romance",
         "Independent",
         54,
         3.682733333,
         37,
         "$55.24 ",
         2011
        ],
        [
         "Not Easily Broken",
         "Drama",
         "Independent",
         66,
         2.14,
         34,
         "$10.70 ",
         2009
        ],
        [
         "No Reservations",
         "Comedy",
         "Warner Bros.",
         64,
         3.307180357,
         39,
         "$92.60 ",
         2007
        ],
        [
         "Nick and Norah's Infinite Playlist",
         "Comedy",
         "Sony",
         67,
         3.3527293,
         73,
         "$33.53 ",
         2008
        ],
        [
         "New Year's Eve",
         "Romance",
         "Warner Bros.",
         48,
         2.536428571,
         8,
         "$142.04 ",
         2011
        ],
        [
         "My Week with Marilyn",
         "Drama",
         "The Weinstein Company",
         84,
         0.8258,
         83,
         "$8.26 ",
         2011
        ],
        [
         "Music and Lyrics",
         "Romance",
         "Warner Bros.",
         70,
         3.64741055,
         63,
         "$145.90 ",
         2007
        ],
        [
         "Monte Carlo",
         "Romance",
         "20th Century Fox",
         50,
         1.9832,
         38,
         "$39.66 ",
         2011
        ],
        [
         "Miss Pettigrew Lives for a Day",
         "Comedy",
         "Independent",
         70,
         0.2528949,
         78,
         "$15.17 ",
         2008
        ],
        [
         "Midnight in Paris",
         "Romence",
         "Sony",
         84,
         8.744705882,
         93,
         "$148.66 ",
         2011
        ],
        [
         "Marley and Me",
         "Comedy",
         "Fox",
         77,
         3.746781818,
         63,
         "$206.07 ",
         2008
        ],
        [
         "Mamma Mia!",
         "Comedy",
         "Universal",
         76,
         9.234453864,
         53,
         "$609.47 ",
         2008
        ],
        [
         "Mamma Mia!",
         "Comedy",
         "Universal",
         76,
         9.234453864,
         53,
         "$609.47 ",
         2008
        ],
        [
         "Made of Honor",
         "Comdy",
         "Sony",
         61,
         2.64906835,
         13,
         "$105.96 ",
         2008
        ],
        [
         "Love Happens",
         "Drama",
         "Universal",
         40,
         2.004444444,
         18,
         "$36.08 ",
         2009
        ],
        [
         "Love & Other Drugs",
         "Comedy",
         "Fox",
         55,
         1.817666667,
         48,
         "$54.53 ",
         2010
        ],
        [
         "Life as We Know It",
         "Comedy",
         "Independent",
         62,
         2.530526316,
         28,
         "$96.16 ",
         2010
        ],
        [
         "License to Wed",
         "Comedy",
         "Warner Bros.",
         55,
         1.9802064,
         8,
         "$69.31 ",
         2007
        ],
        [
         "Letters to Juliet",
         "Comedy",
         "Summit",
         62,
         2.639333333,
         40,
         "$79.18 ",
         2010
        ],
        [
         "Leap Year",
         "Comedy",
         "Universal",
         49,
         1.715263158,
         21,
         "$32.59 ",
         2010
        ],
        [
         "Knocked Up",
         "Comedy",
         "Universal",
         83,
         6.636401848,
         91,
         "$219 ",
         2007
        ],
        [
         "Killers",
         "Action",
         "Lionsgate",
         45,
         1.245333333,
         11,
         "$93.40 ",
         2010
        ],
        [
         "Just Wright",
         "Comedy",
         "Fox",
         58,
         1.797416667,
         45,
         "$21.57 ",
         2010
        ],
        [
         "Jane Eyre",
         "Romance",
         "Universal",
         77,
         0.0,
         85,
         "$30.15 ",
         2011
        ],
        [
         "It's Complicated",
         "Comedy",
         "Universal",
         63,
         2.642352941,
         56,
         "$224.60 ",
         2009
        ],
        [
         "I Love You Phillip Morris",
         "Comedy",
         "Independent",
         57,
         1.34,
         71,
         "$20.10 ",
         2010
        ],
        [
         "High School Musical 3: Senior Year",
         "Comedy",
         "Disney",
         76,
         22.91313646,
         65,
         "$252.04 ",
         2008
        ],
        [
         "He's Just Not That Into You",
         "Comedy",
         "Warner Bros.",
         60,
         7.1536,
         42,
         "$178.84 ",
         2009
        ],
        [
         "Good Luck Chuck",
         "Comedy",
         "Lionsgate",
         61,
         2.36768512,
         3,
         "$59.19 ",
         2007
        ],
        [
         "Going the Distance",
         "Comedy",
         "Warner Bros.",
         56,
         1.3140625,
         53,
         "$42.05 ",
         2010
        ],
        [
         "Gnomeo and Juliet",
         "Animation",
         "Disney",
         52,
         5.387972222,
         56,
         "$193.97 ",
         2011
        ],
        [
         "Gnomeo and Juliet",
         "Animation",
         "Disney",
         52,
         5.387972222,
         56,
         "$193.97 ",
         2011
        ],
        [
         "Ghosts of Girlfriends Past",
         "Comedy",
         "Warner Bros.",
         47,
         2.0444,
         27,
         "$102.22 ",
         2009
        ],
        [
         "Four Christmases",
         "Comedy",
         "Warner Bros.",
         52,
         2.022925,
         26,
         "$161.83 ",
         2008
        ],
        [
         "Fireproof",
         "Drama",
         "Independent",
         51,
         66.934,
         40,
         "$33.47 ",
         2008
        ],
        [
         "Enchanted",
         "Comedy",
         "Disney",
         80,
         4.005737082,
         93,
         "$340.49 ",
         2007
        ],
        [
         "Dear John",
         "Drama",
         "Sony",
         66,
         4.5988,
         29,
         "$114.97 ",
         2010
        ],
        [
         "Beginners",
         "Comedy",
         "Independent",
         80,
         4.471875,
         84,
         "$14.31 ",
         2011
        ],
        [
         "Across the Universe",
         "romance",
         "Independent",
         84,
         0.652603178,
         54,
         "$29.37 ",
         2007
        ],
        [
         "A Serious Man",
         "Drama",
         "Universal",
         64,
         4.382857143,
         89,
         "$30.68 ",
         2009
        ],
        [
         "A Dangerous Method",
         "Drama",
         "Independent",
         89,
         0.44864475,
         79,
         "$8.97 ",
         2011
        ],
        [
         "27 Dresses",
         "Comedy",
         "Fox",
         71,
         5.3436218,
         40,
         "$160.31 ",
         2008
        ],
        [
         "(500) Days of Summer",
         "comedy",
         "Fox",
         81,
         8.096,
         87,
         "$60.72 ",
         2009
        ]
       ],
       "datasetInfos": [],
       "dbfsResultPath": null,
       "isJsonSchema": true,
       "metadata": {
        "dataframeName": "_sqldf",
        "executionCount": 25
       },
       "overflow": false,
       "plotOptions": {
        "customPlotOptions": {},
        "displayType": "table",
        "pivotAggregation": null,
        "pivotColumns": null,
        "xColumns": null,
        "yColumns": null
       },
       "removedWidgets": [],
       "schema": [
        {
         "metadata": "{}",
         "name": "Film",
         "type": "\"string\""
        },
        {
         "metadata": "{}",
         "name": "Genre",
         "type": "\"string\""
        },
        {
         "metadata": "{}",
         "name": "Lead Studio",
         "type": "\"string\""
        },
        {
         "metadata": "{}",
         "name": "Audience score %",
         "type": "\"long\""
        },
        {
         "metadata": "{}",
         "name": "Profitability",
         "type": "\"double\""
        },
        {
         "metadata": "{}",
         "name": "Rotten Tomatoes %",
         "type": "\"long\""
        },
        {
         "metadata": "{}",
         "name": "Worldwide Gross",
         "type": "\"string\""
        },
        {
         "metadata": "{}",
         "name": "Year",
         "type": "\"long\""
        }
       ],
       "type": "table"
      }
     },
     "output_type": "display_data"
    }
   ],
   "source": [
    "%sql\n",
    "\n",
    "-- uploaded csv file and create a table in unity catalog \n",
    "-- run normal SQL queries\n",
    "select\n",
    "  *\n",
    "from\n",
    "  `test`.`default`.`movies`\n"
   ]
  },
  {
   "cell_type": "code",
   "execution_count": 0,
   "metadata": {
    "application/vnd.databricks.v1+cell": {
     "cellMetadata": {},
     "inputWidgets": {},
     "nuid": "fd9b5c16-861d-4d1f-8876-69fecee60b96",
     "showTitle": false,
     "title": ""
    }
   },
   "outputs": [],
   "source": []
  }
 ],
 "metadata": {
  "application/vnd.databricks.v1+notebook": {
   "dashboards": [],
   "environmentMetadata": null,
   "language": "python",
   "notebookMetadata": {
    "mostRecentlyExecutedCommandWithImplicitDF": {
     "commandId": 2921437470583583,
     "dataframes": [
      "_sqldf"
     ]
    },
    "pythonIndentUnit": 4
   },
   "notebookName": "First_Notebook",
   "widgets": {}
  }
 },
 "nbformat": 4,
 "nbformat_minor": 0
}
